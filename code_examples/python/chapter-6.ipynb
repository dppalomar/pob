{
 "cells": [
  {
   "cell_type": "markdown",
   "metadata": {},
   "source": [
    "# Python Examples Chapter 6: Portfolio Basics\n",
    "#### José Vinícius de Miranda Cardoso\n",
    "#### 09 March 2022"
   ]
  },
  {
   "cell_type": "markdown",
   "metadata": {},
   "source": [
    "## Packages"
   ]
  },
  {
   "cell_type": "code",
   "execution_count": 1,
   "metadata": {},
   "outputs": [],
   "source": [
    "import pob\n",
    "import pandas_datareader as pdr"
   ]
  },
  {
   "cell_type": "markdown",
   "metadata": {},
   "source": [
    "## Preliminaries"
   ]
  },
  {
   "cell_type": "markdown",
   "metadata": {},
   "source": [
    "We start with basic aspects such as data loading and plotting."
   ]
  },
  {
   "cell_type": "markdown",
   "metadata": {},
   "source": [
    "## Loading Stock Market Data"
   ]
  },
  {
   "cell_type": "markdown",
   "metadata": {},
   "source": [
    "Loading stock market data could be conveniently queried from Yahoo!Finance with `pandas_datareader`:"
   ]
  },
  {
   "cell_type": "code",
   "execution_count": 2,
   "metadata": {},
   "outputs": [],
   "source": [
    "data = pdr.get_data_yahoo([\"AMD\", \"MGM\", \"AAPL\", \"AMZN\", \"TSCO\"],\n",
    "                          start=\"2019-10-01\", end=\"2021-12-31\")"
   ]
  },
  {
   "cell_type": "code",
   "execution_count": 3,
   "metadata": {},
   "outputs": [
    {
     "data": {
      "text/html": [
       "<div>\n",
       "<style scoped>\n",
       "    .dataframe tbody tr th:only-of-type {\n",
       "        vertical-align: middle;\n",
       "    }\n",
       "\n",
       "    .dataframe tbody tr th {\n",
       "        vertical-align: top;\n",
       "    }\n",
       "\n",
       "    .dataframe thead th {\n",
       "        text-align: right;\n",
       "    }\n",
       "</style>\n",
       "<table border=\"1\" class=\"dataframe\">\n",
       "  <thead>\n",
       "    <tr style=\"text-align: right;\">\n",
       "      <th>Symbols</th>\n",
       "      <th>AMD</th>\n",
       "      <th>MGM</th>\n",
       "      <th>AAPL</th>\n",
       "      <th>AMZN</th>\n",
       "      <th>TSCO</th>\n",
       "    </tr>\n",
       "    <tr>\n",
       "      <th>Date</th>\n",
       "      <th></th>\n",
       "      <th></th>\n",
       "      <th></th>\n",
       "      <th></th>\n",
       "      <th></th>\n",
       "    </tr>\n",
       "  </thead>\n",
       "  <tbody>\n",
       "    <tr>\n",
       "      <th>2019-09-30</th>\n",
       "      <td>28.990000</td>\n",
       "      <td>27.387239</td>\n",
       "      <td>54.937817</td>\n",
       "      <td>1735.910034</td>\n",
       "      <td>87.665878</td>\n",
       "    </tr>\n",
       "    <tr>\n",
       "      <th>2019-10-01</th>\n",
       "      <td>28.760000</td>\n",
       "      <td>27.347721</td>\n",
       "      <td>55.089893</td>\n",
       "      <td>1735.650024</td>\n",
       "      <td>87.045517</td>\n",
       "    </tr>\n",
       "    <tr>\n",
       "      <th>2019-10-02</th>\n",
       "      <td>28.309999</td>\n",
       "      <td>26.784565</td>\n",
       "      <td>53.708912</td>\n",
       "      <td>1713.229980</td>\n",
       "      <td>87.791893</td>\n",
       "    </tr>\n",
       "    <tr>\n",
       "      <th>2019-10-03</th>\n",
       "      <td>28.680000</td>\n",
       "      <td>26.922886</td>\n",
       "      <td>54.165150</td>\n",
       "      <td>1724.420044</td>\n",
       "      <td>90.302452</td>\n",
       "    </tr>\n",
       "    <tr>\n",
       "      <th>2019-10-04</th>\n",
       "      <td>29.010000</td>\n",
       "      <td>26.962404</td>\n",
       "      <td>55.683498</td>\n",
       "      <td>1739.650024</td>\n",
       "      <td>90.253983</td>\n",
       "    </tr>\n",
       "    <tr>\n",
       "      <th>...</th>\n",
       "      <td>...</td>\n",
       "      <td>...</td>\n",
       "      <td>...</td>\n",
       "      <td>...</td>\n",
       "      <td>...</td>\n",
       "    </tr>\n",
       "    <tr>\n",
       "      <th>2021-12-27</th>\n",
       "      <td>154.360001</td>\n",
       "      <td>45.209999</td>\n",
       "      <td>180.100540</td>\n",
       "      <td>3393.389893</td>\n",
       "      <td>230.479752</td>\n",
       "    </tr>\n",
       "    <tr>\n",
       "      <th>2021-12-28</th>\n",
       "      <td>153.149994</td>\n",
       "      <td>44.220001</td>\n",
       "      <td>179.061859</td>\n",
       "      <td>3413.219971</td>\n",
       "      <td>230.181046</td>\n",
       "    </tr>\n",
       "    <tr>\n",
       "      <th>2021-12-29</th>\n",
       "      <td>148.259995</td>\n",
       "      <td>44.490002</td>\n",
       "      <td>179.151749</td>\n",
       "      <td>3384.020020</td>\n",
       "      <td>235.747116</td>\n",
       "    </tr>\n",
       "    <tr>\n",
       "      <th>2021-12-30</th>\n",
       "      <td>145.149994</td>\n",
       "      <td>44.759998</td>\n",
       "      <td>177.973251</td>\n",
       "      <td>3372.889893</td>\n",
       "      <td>235.707291</td>\n",
       "    </tr>\n",
       "    <tr>\n",
       "      <th>2021-12-31</th>\n",
       "      <td>143.899994</td>\n",
       "      <td>44.880001</td>\n",
       "      <td>177.344055</td>\n",
       "      <td>3334.340088</td>\n",
       "      <td>237.579254</td>\n",
       "    </tr>\n",
       "  </tbody>\n",
       "</table>\n",
       "<p>570 rows × 5 columns</p>\n",
       "</div>"
      ],
      "text/plain": [
       "Symbols            AMD        MGM        AAPL         AMZN        TSCO\n",
       "Date                                                                  \n",
       "2019-09-30   28.990000  27.387239   54.937817  1735.910034   87.665878\n",
       "2019-10-01   28.760000  27.347721   55.089893  1735.650024   87.045517\n",
       "2019-10-02   28.309999  26.784565   53.708912  1713.229980   87.791893\n",
       "2019-10-03   28.680000  26.922886   54.165150  1724.420044   90.302452\n",
       "2019-10-04   29.010000  26.962404   55.683498  1739.650024   90.253983\n",
       "...                ...        ...         ...          ...         ...\n",
       "2021-12-27  154.360001  45.209999  180.100540  3393.389893  230.479752\n",
       "2021-12-28  153.149994  44.220001  179.061859  3413.219971  230.181046\n",
       "2021-12-29  148.259995  44.490002  179.151749  3384.020020  235.747116\n",
       "2021-12-30  145.149994  44.759998  177.973251  3372.889893  235.707291\n",
       "2021-12-31  143.899994  44.880001  177.344055  3334.340088  237.579254\n",
       "\n",
       "[570 rows x 5 columns]"
      ]
     },
     "execution_count": 3,
     "metadata": {},
     "output_type": "execute_result"
    }
   ],
   "source": [
    "data[\"Adj Close\"]"
   ]
  },
  {
   "cell_type": "markdown",
   "metadata": {},
   "source": [
    "However, for convenience, we will use stock and cryptocurrency data from the official portfolio optimization book package pob:"
   ]
  },
  {
   "cell_type": "code",
   "execution_count": 4,
   "metadata": {},
   "outputs": [],
   "source": [
    "cryptos = pob.data.cryptos_2017to2021"
   ]
  },
  {
   "cell_type": "code",
   "execution_count": 5,
   "metadata": {},
   "outputs": [
    {
     "data": {
      "text/plain": [
       "OrderedDict()"
      ]
     },
     "execution_count": 5,
     "metadata": {},
     "output_type": "execute_result"
    }
   ],
   "source": [
    "cryptos"
   ]
  },
  {
   "cell_type": "code",
   "execution_count": null,
   "metadata": {},
   "outputs": [],
   "source": []
  }
 ],
 "metadata": {
  "kernelspec": {
   "display_name": "Python 3",
   "language": "python",
   "name": "python3"
  },
  "language_info": {
   "codemirror_mode": {
    "name": "ipython",
    "version": 3
   },
   "file_extension": ".py",
   "mimetype": "text/x-python",
   "name": "python",
   "nbconvert_exporter": "python",
   "pygments_lexer": "ipython3",
   "version": "3.8.3"
  }
 },
 "nbformat": 4,
 "nbformat_minor": 4
}
